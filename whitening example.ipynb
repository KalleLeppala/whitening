{
 "cells": [
  {
   "cell_type": "code",
   "execution_count": 1,
   "metadata": {},
   "outputs": [
    {
     "name": "stderr",
     "output_type": "stream",
     "text": [
      "C:\\Users\\kalle\\Anaconda3\\lib\\site-packages\\ipykernel_launcher.py:5: DeprecationWarning: \n",
      ".ix is deprecated. Please use\n",
      ".loc for label based indexing or\n",
      ".iloc for positional indexing\n",
      "\n",
      "See the documentation here:\n",
      "http://pandas.pydata.org/pandas-docs/stable/indexing.html#ix-indexer-is-deprecated\n",
      "  \"\"\"\n"
     ]
    }
   ],
   "source": [
    "import whitening\n",
    "import numpy\n",
    "import pandas\n",
    "g = pandas.read_table(\"eur.phase3.bs.maf.0.05.chr.22.raw\", skiprows = 0, delim_whitespace = True)\n",
    "g = g.ix[:, 6:]\n",
    "g = g.T\n",
    "G = numpy.asmatrix(g)\n",
    "# G is the original genotype matrix.\n",
    "# It should be a numpy matrix, rows are SNPs and columns are individuals, entries should be 0, 1 or 2.\n",
    "# Here I'm using Yorgos's data."
   ]
  },
  {
   "cell_type": "code",
   "execution_count": 2,
   "metadata": {},
   "outputs": [
    {
     "name": "stdout",
     "output_type": "stream",
     "text": [
      "True\n"
     ]
    }
   ],
   "source": [
    "F = whitening.whiten(G)\n",
    "# F is the transformed pseudogenotype matrix, it is of the form G*X for some matrix X.\n",
    "# We can check that the columns of F really are linear combinations of the columns of G by using same_column_space().\n",
    "# This is slow and you don't generally need to do that, it's just a sanity check.\n",
    "print(whitening.same_column_space(F, G))"
   ]
  },
  {
   "cell_type": "code",
   "execution_count": 3,
   "metadata": {},
   "outputs": [
    {
     "name": "stdout",
     "output_type": "stream",
     "text": [
      "[[  2.22044605e-15]\n",
      " [ -7.10542736e-15]\n",
      " [ -1.77635684e-15]\n",
      " ..., \n",
      " [ -5.32907052e-15]\n",
      " [  4.44089210e-15]\n",
      " [  0.00000000e+00]]\n"
     ]
    }
   ],
   "source": [
    "# The pseudogenotypes have the property that their GRM is as close to the identity as possible. Let's check this.\n",
    "# The row means are already zero.\n",
    "print(F*numpy.ones((F.shape[1], 1)))"
   ]
  },
  {
   "cell_type": "code",
   "execution_count": 4,
   "metadata": {},
   "outputs": [
    {
     "name": "stdout",
     "output_type": "stream",
     "text": [
      "[[ 33.57600045  -0.06728624  -0.0672868  ...,  -0.0672866   -0.06728653\n",
      "   -0.06728674]\n",
      " [ -0.06728624  33.57600027  -0.0672868  ...,  -0.06728659  -0.06728655\n",
      "   -0.06728672]\n",
      " [ -0.0672868   -0.0672868   33.57600015 ...,  -0.06728656  -0.06728659\n",
      "   -0.06728646]\n",
      " ..., \n",
      " [ -0.0672866   -0.06728659  -0.06728656 ...,  33.57599996  -0.06728657\n",
      "   -0.06728656]\n",
      " [ -0.06728653  -0.06728655  -0.06728659 ...,  -0.06728657  33.57599998\n",
      "   -0.06728658]\n",
      " [ -0.06728674  -0.06728672  -0.06728646 ...,  -0.06728656  -0.06728658\n",
      "   33.57600005]]\n"
     ]
    }
   ],
   "source": [
    "# We can scale the row standard deviations to one by using row_normalize().\n",
    "Fbar = whitening.row_normalize(F)\n",
    "print(Fbar.T*Fbar)"
   ]
  },
  {
   "cell_type": "code",
   "execution_count": null,
   "metadata": {
    "collapsed": true
   },
   "outputs": [],
   "source": []
  }
 ],
 "metadata": {
  "kernelspec": {
   "display_name": "Python 3",
   "language": "python",
   "name": "python3"
  },
  "language_info": {
   "codemirror_mode": {
    "name": "ipython",
    "version": 3
   },
   "file_extension": ".py",
   "mimetype": "text/x-python",
   "name": "python",
   "nbconvert_exporter": "python",
   "pygments_lexer": "ipython3",
   "version": "3.6.2"
  }
 },
 "nbformat": 4,
 "nbformat_minor": 2
}
